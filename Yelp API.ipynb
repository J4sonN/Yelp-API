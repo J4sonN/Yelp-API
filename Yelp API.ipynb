{
 "cells": [
  {
   "cell_type": "code",
   "execution_count": 12,
   "id": "459f1f41",
   "metadata": {},
   "outputs": [
    {
     "data": {
      "text/plain": [
       "dict_keys(['client-id', 'api-key'])"
      ]
     },
     "execution_count": 12,
     "metadata": {},
     "output_type": "execute_result"
    }
   ],
   "source": [
    "import json\n",
    "with open(r\"C:\\Users\\black\\.secret\\yelp_api.json\") as f:\n",
    "    login = json.load(f)\n",
    "login.keys()"
   ]
  },
  {
   "cell_type": "code",
   "execution_count": 16,
   "id": "31b467ff",
   "metadata": {},
   "outputs": [
    {
     "data": {
      "text/plain": [
       "<yelpapi.yelpapi.YelpAPI at 0x191d1c80820>"
      ]
     },
     "execution_count": 16,
     "metadata": {},
     "output_type": "execute_result"
    }
   ],
   "source": [
    "from yelpapi import YelpAPI\n",
    "yelp_api = YelpAPI(login['api-key'], timeout_s=5.0)\n",
    "yelp_api"
   ]
  },
  {
   "cell_type": "code",
   "execution_count": 17,
   "id": "e025d014",
   "metadata": {},
   "outputs": [
    {
     "name": "stdout",
     "output_type": "stream",
     "text": [
      "Help on method search_query in module yelpapi.yelpapi:\n",
      "\n",
      "search_query(**kwargs) method of yelpapi.yelpapi.YelpAPI instance\n",
      "    Query the Yelp Search API.\n",
      "    \n",
      "    documentation: https://www.yelp.com/developers/documentation/v3/business_search\n",
      "    \n",
      "    required parameters:\n",
      "        * one of either:\n",
      "            * location - text specifying a location to search for\n",
      "            * latitude and longitude\n",
      "\n"
     ]
    }
   ],
   "source": [
    "help(yelp_api.search_query)"
   ]
  },
  {
   "cell_type": "code",
   "execution_count": 27,
   "id": "212aed6c",
   "metadata": {},
   "outputs": [
    {
     "name": "stdout",
     "output_type": "stream",
     "text": [
      "<class 'dict'>\n"
     ]
    },
    {
     "data": {
      "text/plain": [
       "dict_keys(['businesses', 'total', 'region'])"
      ]
     },
     "execution_count": 27,
     "metadata": {},
     "output_type": "execute_result"
    }
   ],
   "source": [
    "search_results = yelp_api.search_query(location='Santa Ana, CA',\n",
    "                                       term='')\n",
    "print(type(search_results))\n",
    "search_results.keys()"
   ]
  },
  {
   "cell_type": "code",
   "execution_count": 28,
   "id": "b69c0a03",
   "metadata": {},
   "outputs": [
    {
     "data": {
      "text/plain": [
       "15600"
      ]
     },
     "execution_count": 28,
     "metadata": {},
     "output_type": "execute_result"
    }
   ],
   "source": [
    "search_results['total']"
   ]
  },
  {
   "cell_type": "code",
   "execution_count": 29,
   "id": "1907645a",
   "metadata": {},
   "outputs": [
    {
     "data": {
      "text/plain": [
       "20"
      ]
     },
     "execution_count": 29,
     "metadata": {},
     "output_type": "execute_result"
    }
   ],
   "source": [
    "len(search_results['businesses'])"
   ]
  },
  {
   "cell_type": "code",
   "execution_count": 30,
   "id": "d3c9759e",
   "metadata": {},
   "outputs": [
    {
     "data": {
      "text/html": [
       "<div>\n",
       "<style scoped>\n",
       "    .dataframe tbody tr th:only-of-type {\n",
       "        vertical-align: middle;\n",
       "    }\n",
       "\n",
       "    .dataframe tbody tr th {\n",
       "        vertical-align: top;\n",
       "    }\n",
       "\n",
       "    .dataframe thead th {\n",
       "        text-align: right;\n",
       "    }\n",
       "</style>\n",
       "<table border=\"1\" class=\"dataframe\">\n",
       "  <thead>\n",
       "    <tr style=\"text-align: right;\">\n",
       "      <th></th>\n",
       "      <th>id</th>\n",
       "      <th>alias</th>\n",
       "      <th>name</th>\n",
       "      <th>image_url</th>\n",
       "      <th>is_closed</th>\n",
       "      <th>url</th>\n",
       "      <th>review_count</th>\n",
       "      <th>categories</th>\n",
       "      <th>rating</th>\n",
       "      <th>coordinates</th>\n",
       "      <th>transactions</th>\n",
       "      <th>price</th>\n",
       "      <th>location</th>\n",
       "      <th>phone</th>\n",
       "      <th>display_phone</th>\n",
       "      <th>distance</th>\n",
       "    </tr>\n",
       "  </thead>\n",
       "  <tbody>\n",
       "    <tr>\n",
       "      <th>0</th>\n",
       "      <td>ysqgdbSrezXgVwER2kQWKA</td>\n",
       "      <td>julianas-brooklyn-3</td>\n",
       "      <td>Juliana's</td>\n",
       "      <td>https://s3-media2.fl.yelpcdn.com/bphoto/NVoLFl...</td>\n",
       "      <td>False</td>\n",
       "      <td>https://www.yelp.com/biz/julianas-brooklyn-3?a...</td>\n",
       "      <td>2660</td>\n",
       "      <td>[{'alias': 'pizza', 'title': 'Pizza'}]</td>\n",
       "      <td>4.5</td>\n",
       "      <td>{'latitude': 40.70274718768062, 'longitude': -...</td>\n",
       "      <td>[delivery]</td>\n",
       "      <td>$$</td>\n",
       "      <td>{'address1': '19 Old Fulton St', 'address2': '...</td>\n",
       "      <td>+17185966700</td>\n",
       "      <td>(718) 596-6700</td>\n",
       "      <td>1289.857286</td>\n",
       "    </tr>\n",
       "    <tr>\n",
       "      <th>1</th>\n",
       "      <td>zj8Lq1T8KIC5zwFief15jg</td>\n",
       "      <td>prince-street-pizza-new-york-2</td>\n",
       "      <td>Prince Street Pizza</td>\n",
       "      <td>https://s3-media4.fl.yelpcdn.com/bphoto/PfI8oV...</td>\n",
       "      <td>False</td>\n",
       "      <td>https://www.yelp.com/biz/prince-street-pizza-n...</td>\n",
       "      <td>4950</td>\n",
       "      <td>[{'alias': 'pizza', 'title': 'Pizza'}, {'alias...</td>\n",
       "      <td>4.5</td>\n",
       "      <td>{'latitude': 40.72308755605564, 'longitude': -...</td>\n",
       "      <td>[pickup, delivery]</td>\n",
       "      <td>$</td>\n",
       "      <td>{'address1': '27 Prince St', 'address2': None,...</td>\n",
       "      <td>+12129664100</td>\n",
       "      <td>(212) 966-4100</td>\n",
       "      <td>2209.311618</td>\n",
       "    </tr>\n",
       "  </tbody>\n",
       "</table>\n",
       "</div>"
      ],
      "text/plain": [
       "                       id                           alias  \\\n",
       "0  ysqgdbSrezXgVwER2kQWKA             julianas-brooklyn-3   \n",
       "1  zj8Lq1T8KIC5zwFief15jg  prince-street-pizza-new-york-2   \n",
       "\n",
       "                  name                                          image_url  \\\n",
       "0            Juliana's  https://s3-media2.fl.yelpcdn.com/bphoto/NVoLFl...   \n",
       "1  Prince Street Pizza  https://s3-media4.fl.yelpcdn.com/bphoto/PfI8oV...   \n",
       "\n",
       "   is_closed                                                url  review_count  \\\n",
       "0      False  https://www.yelp.com/biz/julianas-brooklyn-3?a...          2660   \n",
       "1      False  https://www.yelp.com/biz/prince-street-pizza-n...          4950   \n",
       "\n",
       "                                          categories  rating  \\\n",
       "0             [{'alias': 'pizza', 'title': 'Pizza'}]     4.5   \n",
       "1  [{'alias': 'pizza', 'title': 'Pizza'}, {'alias...     4.5   \n",
       "\n",
       "                                         coordinates        transactions  \\\n",
       "0  {'latitude': 40.70274718768062, 'longitude': -...          [delivery]   \n",
       "1  {'latitude': 40.72308755605564, 'longitude': -...  [pickup, delivery]   \n",
       "\n",
       "  price                                           location         phone  \\\n",
       "0    $$  {'address1': '19 Old Fulton St', 'address2': '...  +17185966700   \n",
       "1     $  {'address1': '27 Prince St', 'address2': None,...  +12129664100   \n",
       "\n",
       "    display_phone     distance  \n",
       "0  (718) 596-6700  1289.857286  \n",
       "1  (212) 966-4100  2209.311618  "
      ]
     },
     "execution_count": 30,
     "metadata": {},
     "output_type": "execute_result"
    }
   ],
   "source": [
    "biz = pd.DataFrame(search_results['businesses'])\n",
    "biz.head(2) "
   ]
  },
  {
   "cell_type": "code",
   "execution_count": 32,
   "id": "6e8e992c",
   "metadata": {},
   "outputs": [],
   "source": [
    "search_results = yelp_api.search_query(location='NY, NY',\n",
    "                                       term='Pizza',\n",
    "                                       offset = 20)"
   ]
  },
  {
   "cell_type": "code",
   "execution_count": 33,
   "id": "5b4a311f",
   "metadata": {},
   "outputs": [
    {
     "data": {
      "text/html": [
       "<div>\n",
       "<style scoped>\n",
       "    .dataframe tbody tr th:only-of-type {\n",
       "        vertical-align: middle;\n",
       "    }\n",
       "\n",
       "    .dataframe tbody tr th {\n",
       "        vertical-align: top;\n",
       "    }\n",
       "\n",
       "    .dataframe thead th {\n",
       "        text-align: right;\n",
       "    }\n",
       "</style>\n",
       "<table border=\"1\" class=\"dataframe\">\n",
       "  <thead>\n",
       "    <tr style=\"text-align: right;\">\n",
       "      <th></th>\n",
       "      <th>id</th>\n",
       "      <th>alias</th>\n",
       "      <th>name</th>\n",
       "      <th>image_url</th>\n",
       "      <th>is_closed</th>\n",
       "      <th>url</th>\n",
       "      <th>review_count</th>\n",
       "      <th>categories</th>\n",
       "      <th>rating</th>\n",
       "      <th>coordinates</th>\n",
       "      <th>transactions</th>\n",
       "      <th>location</th>\n",
       "      <th>phone</th>\n",
       "      <th>display_phone</th>\n",
       "      <th>distance</th>\n",
       "      <th>price</th>\n",
       "    </tr>\n",
       "  </thead>\n",
       "  <tbody>\n",
       "    <tr>\n",
       "      <th>0</th>\n",
       "      <td>hZBxJfZtDjnMzH_jNFNHRQ</td>\n",
       "      <td>little-pizza-parlor-brooklyn</td>\n",
       "      <td>Little Pizza Parlor</td>\n",
       "      <td>https://s3-media2.fl.yelpcdn.com/bphoto/99YkIi...</td>\n",
       "      <td>False</td>\n",
       "      <td>https://www.yelp.com/biz/little-pizza-parlor-b...</td>\n",
       "      <td>37</td>\n",
       "      <td>[{'alias': 'pizza', 'title': 'Pizza'}]</td>\n",
       "      <td>4.5</td>\n",
       "      <td>{'latitude': 40.692425, 'longitude': -73.984467}</td>\n",
       "      <td>[pickup, delivery]</td>\n",
       "      <td>{'address1': '192 Duffield St', 'address2': No...</td>\n",
       "      <td>+13477991249</td>\n",
       "      <td>(347) 799-1249</td>\n",
       "      <td>1677.958897</td>\n",
       "      <td>NaN</td>\n",
       "    </tr>\n",
       "    <tr>\n",
       "      <th>1</th>\n",
       "      <td>oJ_XSPZFpvIt6rvheSQl7A</td>\n",
       "      <td>bleecker-street-pizza-new-york</td>\n",
       "      <td>Bleecker Street Pizza</td>\n",
       "      <td>https://s3-media2.fl.yelpcdn.com/bphoto/WJ6UTg...</td>\n",
       "      <td>False</td>\n",
       "      <td>https://www.yelp.com/biz/bleecker-street-pizza...</td>\n",
       "      <td>2851</td>\n",
       "      <td>[{'alias': 'pizza', 'title': 'Pizza'}, {'alias...</td>\n",
       "      <td>4.0</td>\n",
       "      <td>{'latitude': 40.7320627016512, 'longitude': -7...</td>\n",
       "      <td>[pickup, delivery]</td>\n",
       "      <td>{'address1': '69 7th Ave S', 'address2': None,...</td>\n",
       "      <td>+12129244466</td>\n",
       "      <td>(212) 924-4466</td>\n",
       "      <td>3469.471324</td>\n",
       "      <td>$</td>\n",
       "    </tr>\n",
       "  </tbody>\n",
       "</table>\n",
       "</div>"
      ],
      "text/plain": [
       "                       id                           alias  \\\n",
       "0  hZBxJfZtDjnMzH_jNFNHRQ    little-pizza-parlor-brooklyn   \n",
       "1  oJ_XSPZFpvIt6rvheSQl7A  bleecker-street-pizza-new-york   \n",
       "\n",
       "                    name                                          image_url  \\\n",
       "0    Little Pizza Parlor  https://s3-media2.fl.yelpcdn.com/bphoto/99YkIi...   \n",
       "1  Bleecker Street Pizza  https://s3-media2.fl.yelpcdn.com/bphoto/WJ6UTg...   \n",
       "\n",
       "   is_closed                                                url  review_count  \\\n",
       "0      False  https://www.yelp.com/biz/little-pizza-parlor-b...            37   \n",
       "1      False  https://www.yelp.com/biz/bleecker-street-pizza...          2851   \n",
       "\n",
       "                                          categories  rating  \\\n",
       "0             [{'alias': 'pizza', 'title': 'Pizza'}]     4.5   \n",
       "1  [{'alias': 'pizza', 'title': 'Pizza'}, {'alias...     4.0   \n",
       "\n",
       "                                         coordinates        transactions  \\\n",
       "0   {'latitude': 40.692425, 'longitude': -73.984467}  [pickup, delivery]   \n",
       "1  {'latitude': 40.7320627016512, 'longitude': -7...  [pickup, delivery]   \n",
       "\n",
       "                                            location         phone  \\\n",
       "0  {'address1': '192 Duffield St', 'address2': No...  +13477991249   \n",
       "1  {'address1': '69 7th Ave S', 'address2': None,...  +12129244466   \n",
       "\n",
       "    display_phone     distance price  \n",
       "0  (347) 799-1249  1677.958897   NaN  \n",
       "1  (212) 924-4466  3469.471324     $  "
      ]
     },
     "execution_count": 33,
     "metadata": {},
     "output_type": "execute_result"
    }
   ],
   "source": [
    "biz20 = pd.DataFrame(search_results['businesses'])\n",
    "biz20.head(2)"
   ]
  },
  {
   "cell_type": "code",
   "execution_count": 34,
   "id": "c770a64f",
   "metadata": {},
   "outputs": [
    {
     "data": {
      "text/html": [
       "<div>\n",
       "<style scoped>\n",
       "    .dataframe tbody tr th:only-of-type {\n",
       "        vertical-align: middle;\n",
       "    }\n",
       "\n",
       "    .dataframe tbody tr th {\n",
       "        vertical-align: top;\n",
       "    }\n",
       "\n",
       "    .dataframe thead th {\n",
       "        text-align: right;\n",
       "    }\n",
       "</style>\n",
       "<table border=\"1\" class=\"dataframe\">\n",
       "  <thead>\n",
       "    <tr style=\"text-align: right;\">\n",
       "      <th></th>\n",
       "      <th>id</th>\n",
       "      <th>alias</th>\n",
       "      <th>name</th>\n",
       "      <th>image_url</th>\n",
       "      <th>is_closed</th>\n",
       "      <th>url</th>\n",
       "      <th>review_count</th>\n",
       "      <th>categories</th>\n",
       "      <th>rating</th>\n",
       "      <th>coordinates</th>\n",
       "      <th>transactions</th>\n",
       "      <th>price</th>\n",
       "      <th>location</th>\n",
       "      <th>phone</th>\n",
       "      <th>display_phone</th>\n",
       "      <th>distance</th>\n",
       "    </tr>\n",
       "  </thead>\n",
       "  <tbody>\n",
       "    <tr>\n",
       "      <th>0</th>\n",
       "      <td>ysqgdbSrezXgVwER2kQWKA</td>\n",
       "      <td>julianas-brooklyn-3</td>\n",
       "      <td>Juliana's</td>\n",
       "      <td>https://s3-media2.fl.yelpcdn.com/bphoto/NVoLFl...</td>\n",
       "      <td>False</td>\n",
       "      <td>https://www.yelp.com/biz/julianas-brooklyn-3?a...</td>\n",
       "      <td>2660</td>\n",
       "      <td>[{'alias': 'pizza', 'title': 'Pizza'}]</td>\n",
       "      <td>4.5</td>\n",
       "      <td>{'latitude': 40.70274718768062, 'longitude': -...</td>\n",
       "      <td>[delivery]</td>\n",
       "      <td>$$</td>\n",
       "      <td>{'address1': '19 Old Fulton St', 'address2': '...</td>\n",
       "      <td>+17185966700</td>\n",
       "      <td>(718) 596-6700</td>\n",
       "      <td>1289.857286</td>\n",
       "    </tr>\n",
       "    <tr>\n",
       "      <th>1</th>\n",
       "      <td>zj8Lq1T8KIC5zwFief15jg</td>\n",
       "      <td>prince-street-pizza-new-york-2</td>\n",
       "      <td>Prince Street Pizza</td>\n",
       "      <td>https://s3-media4.fl.yelpcdn.com/bphoto/PfI8oV...</td>\n",
       "      <td>False</td>\n",
       "      <td>https://www.yelp.com/biz/prince-street-pizza-n...</td>\n",
       "      <td>4950</td>\n",
       "      <td>[{'alias': 'pizza', 'title': 'Pizza'}, {'alias...</td>\n",
       "      <td>4.5</td>\n",
       "      <td>{'latitude': 40.72308755605564, 'longitude': -...</td>\n",
       "      <td>[pickup, delivery]</td>\n",
       "      <td>$</td>\n",
       "      <td>{'address1': '27 Prince St', 'address2': None,...</td>\n",
       "      <td>+12129664100</td>\n",
       "      <td>(212) 966-4100</td>\n",
       "      <td>2209.311618</td>\n",
       "    </tr>\n",
       "    <tr>\n",
       "      <th>2</th>\n",
       "      <td>WG639VkTjmK5dzydd1BBJA</td>\n",
       "      <td>rubirosa-new-york-2</td>\n",
       "      <td>Rubirosa</td>\n",
       "      <td>https://s3-media3.fl.yelpcdn.com/bphoto/F65qqO...</td>\n",
       "      <td>False</td>\n",
       "      <td>https://www.yelp.com/biz/rubirosa-new-york-2?a...</td>\n",
       "      <td>3057</td>\n",
       "      <td>[{'alias': 'italian', 'title': 'Italian'}, {'a...</td>\n",
       "      <td>4.5</td>\n",
       "      <td>{'latitude': 40.722766, 'longitude': -73.996233}</td>\n",
       "      <td>[pickup]</td>\n",
       "      <td>$$</td>\n",
       "      <td>{'address1': '235 Mulberry St', 'address2': ''...</td>\n",
       "      <td>+12129650500</td>\n",
       "      <td>(212) 965-0500</td>\n",
       "      <td>2268.491950</td>\n",
       "    </tr>\n",
       "  </tbody>\n",
       "</table>\n",
       "</div>"
      ],
      "text/plain": [
       "                       id                           alias  \\\n",
       "0  ysqgdbSrezXgVwER2kQWKA             julianas-brooklyn-3   \n",
       "1  zj8Lq1T8KIC5zwFief15jg  prince-street-pizza-new-york-2   \n",
       "2  WG639VkTjmK5dzydd1BBJA             rubirosa-new-york-2   \n",
       "\n",
       "                  name                                          image_url  \\\n",
       "0            Juliana's  https://s3-media2.fl.yelpcdn.com/bphoto/NVoLFl...   \n",
       "1  Prince Street Pizza  https://s3-media4.fl.yelpcdn.com/bphoto/PfI8oV...   \n",
       "2             Rubirosa  https://s3-media3.fl.yelpcdn.com/bphoto/F65qqO...   \n",
       "\n",
       "   is_closed                                                url  review_count  \\\n",
       "0      False  https://www.yelp.com/biz/julianas-brooklyn-3?a...          2660   \n",
       "1      False  https://www.yelp.com/biz/prince-street-pizza-n...          4950   \n",
       "2      False  https://www.yelp.com/biz/rubirosa-new-york-2?a...          3057   \n",
       "\n",
       "                                          categories  rating  \\\n",
       "0             [{'alias': 'pizza', 'title': 'Pizza'}]     4.5   \n",
       "1  [{'alias': 'pizza', 'title': 'Pizza'}, {'alias...     4.5   \n",
       "2  [{'alias': 'italian', 'title': 'Italian'}, {'a...     4.5   \n",
       "\n",
       "                                         coordinates        transactions  \\\n",
       "0  {'latitude': 40.70274718768062, 'longitude': -...          [delivery]   \n",
       "1  {'latitude': 40.72308755605564, 'longitude': -...  [pickup, delivery]   \n",
       "2   {'latitude': 40.722766, 'longitude': -73.996233}            [pickup]   \n",
       "\n",
       "  price                                           location         phone  \\\n",
       "0    $$  {'address1': '19 Old Fulton St', 'address2': '...  +17185966700   \n",
       "1     $  {'address1': '27 Prince St', 'address2': None,...  +12129664100   \n",
       "2    $$  {'address1': '235 Mulberry St', 'address2': ''...  +12129650500   \n",
       "\n",
       "    display_phone     distance  \n",
       "0  (718) 596-6700  1289.857286  \n",
       "1  (212) 966-4100  2209.311618  \n",
       "2  (212) 965-0500  2268.491950  "
      ]
     },
     "metadata": {},
     "output_type": "display_data"
    },
    {
     "data": {
      "text/html": [
       "<div>\n",
       "<style scoped>\n",
       "    .dataframe tbody tr th:only-of-type {\n",
       "        vertical-align: middle;\n",
       "    }\n",
       "\n",
       "    .dataframe tbody tr th {\n",
       "        vertical-align: top;\n",
       "    }\n",
       "\n",
       "    .dataframe thead th {\n",
       "        text-align: right;\n",
       "    }\n",
       "</style>\n",
       "<table border=\"1\" class=\"dataframe\">\n",
       "  <thead>\n",
       "    <tr style=\"text-align: right;\">\n",
       "      <th></th>\n",
       "      <th>id</th>\n",
       "      <th>alias</th>\n",
       "      <th>name</th>\n",
       "      <th>image_url</th>\n",
       "      <th>is_closed</th>\n",
       "      <th>url</th>\n",
       "      <th>review_count</th>\n",
       "      <th>categories</th>\n",
       "      <th>rating</th>\n",
       "      <th>coordinates</th>\n",
       "      <th>transactions</th>\n",
       "      <th>price</th>\n",
       "      <th>location</th>\n",
       "      <th>phone</th>\n",
       "      <th>display_phone</th>\n",
       "      <th>distance</th>\n",
       "    </tr>\n",
       "  </thead>\n",
       "  <tbody>\n",
       "    <tr>\n",
       "      <th>37</th>\n",
       "      <td>pGr5QuQU7Ur5GHLvXbT8bw</td>\n",
       "      <td>paulie-gees-brooklyn</td>\n",
       "      <td>Paulie Gee's</td>\n",
       "      <td>https://s3-media4.fl.yelpcdn.com/bphoto/RCrEpY...</td>\n",
       "      <td>False</td>\n",
       "      <td>https://www.yelp.com/biz/paulie-gees-brooklyn?...</td>\n",
       "      <td>1350</td>\n",
       "      <td>[{'alias': 'pizza', 'title': 'Pizza'}]</td>\n",
       "      <td>4.5</td>\n",
       "      <td>{'latitude': 40.729546, 'longitude': -73.958568}</td>\n",
       "      <td>[delivery]</td>\n",
       "      <td>$$</td>\n",
       "      <td>{'address1': '60 Greenpoint Ave', 'address2': ...</td>\n",
       "      <td>+13479873747</td>\n",
       "      <td>(347) 987-3747</td>\n",
       "      <td>3047.891250</td>\n",
       "    </tr>\n",
       "    <tr>\n",
       "      <th>38</th>\n",
       "      <td>r1PWMTbFXBmEhi0scGPf3w</td>\n",
       "      <td>aces-pizza-brooklyn</td>\n",
       "      <td>Ace's Pizza</td>\n",
       "      <td>https://s3-media3.fl.yelpcdn.com/bphoto/IZ3aOc...</td>\n",
       "      <td>False</td>\n",
       "      <td>https://www.yelp.com/biz/aces-pizza-brooklyn?a...</td>\n",
       "      <td>147</td>\n",
       "      <td>[{'alias': 'pizza', 'title': 'Pizza'}, {'alias...</td>\n",
       "      <td>4.5</td>\n",
       "      <td>{'latitude': 40.71505, 'longitude': -73.958365}</td>\n",
       "      <td>[delivery]</td>\n",
       "      <td>$$</td>\n",
       "      <td>{'address1': '637 Driggs Ave', 'address2': '',...</td>\n",
       "      <td>+13477254366</td>\n",
       "      <td>(347) 725-4366</td>\n",
       "      <td>1971.279563</td>\n",
       "    </tr>\n",
       "    <tr>\n",
       "      <th>39</th>\n",
       "      <td>ApZ_j43jjSZQe2AMDdO46w</td>\n",
       "      <td>grand-street-pizza-new-york</td>\n",
       "      <td>Grand Street Pizza</td>\n",
       "      <td>https://s3-media2.fl.yelpcdn.com/bphoto/8EDsxD...</td>\n",
       "      <td>False</td>\n",
       "      <td>https://www.yelp.com/biz/grand-street-pizza-ne...</td>\n",
       "      <td>38</td>\n",
       "      <td>[{'alias': 'pizza', 'title': 'Pizza'}]</td>\n",
       "      <td>4.5</td>\n",
       "      <td>{'latitude': 40.7164, 'longitude': -73.98767}</td>\n",
       "      <td>[pickup, delivery]</td>\n",
       "      <td>NaN</td>\n",
       "      <td>{'address1': '384 Grand St', 'address2': '', '...</td>\n",
       "      <td>+16469186194</td>\n",
       "      <td>(646) 918-6194</td>\n",
       "      <td>1276.253356</td>\n",
       "    </tr>\n",
       "  </tbody>\n",
       "</table>\n",
       "</div>"
      ],
      "text/plain": [
       "                        id                        alias                name  \\\n",
       "37  pGr5QuQU7Ur5GHLvXbT8bw         paulie-gees-brooklyn        Paulie Gee's   \n",
       "38  r1PWMTbFXBmEhi0scGPf3w          aces-pizza-brooklyn         Ace's Pizza   \n",
       "39  ApZ_j43jjSZQe2AMDdO46w  grand-street-pizza-new-york  Grand Street Pizza   \n",
       "\n",
       "                                            image_url  is_closed  \\\n",
       "37  https://s3-media4.fl.yelpcdn.com/bphoto/RCrEpY...      False   \n",
       "38  https://s3-media3.fl.yelpcdn.com/bphoto/IZ3aOc...      False   \n",
       "39  https://s3-media2.fl.yelpcdn.com/bphoto/8EDsxD...      False   \n",
       "\n",
       "                                                  url  review_count  \\\n",
       "37  https://www.yelp.com/biz/paulie-gees-brooklyn?...          1350   \n",
       "38  https://www.yelp.com/biz/aces-pizza-brooklyn?a...           147   \n",
       "39  https://www.yelp.com/biz/grand-street-pizza-ne...            38   \n",
       "\n",
       "                                           categories  rating  \\\n",
       "37             [{'alias': 'pizza', 'title': 'Pizza'}]     4.5   \n",
       "38  [{'alias': 'pizza', 'title': 'Pizza'}, {'alias...     4.5   \n",
       "39             [{'alias': 'pizza', 'title': 'Pizza'}]     4.5   \n",
       "\n",
       "                                         coordinates        transactions  \\\n",
       "37  {'latitude': 40.729546, 'longitude': -73.958568}          [delivery]   \n",
       "38   {'latitude': 40.71505, 'longitude': -73.958365}          [delivery]   \n",
       "39     {'latitude': 40.7164, 'longitude': -73.98767}  [pickup, delivery]   \n",
       "\n",
       "   price                                           location         phone  \\\n",
       "37    $$  {'address1': '60 Greenpoint Ave', 'address2': ...  +13479873747   \n",
       "38    $$  {'address1': '637 Driggs Ave', 'address2': '',...  +13477254366   \n",
       "39   NaN  {'address1': '384 Grand St', 'address2': '', '...  +16469186194   \n",
       "\n",
       "     display_phone     distance  \n",
       "37  (347) 987-3747  3047.891250  \n",
       "38  (347) 725-4366  1971.279563  \n",
       "39  (646) 918-6194  1276.253356  "
      ]
     },
     "metadata": {},
     "output_type": "display_data"
    }
   ],
   "source": [
    "businesses = pd.concat([biz, biz20],\n",
    "                      ignore_index=True)\n",
    "display(businesses.head(3), businesses.tail(3))"
   ]
  },
  {
   "cell_type": "code",
   "execution_count": 35,
   "id": "4ed89114",
   "metadata": {},
   "outputs": [
    {
     "data": {
      "text/plain": [
       "'[{\"id\":\"ysqgdbSrezXgVwER2kQWKA\",\"alias\":\"julianas-brooklyn-3\",\"name\":\"Juliana\\'s\",\"image_url\":\"https:\\\\/\\\\/s3-media2.fl.yelpcdn.com\\\\/bphoto\\\\/NVoLFle5H-SHNN6piAKIYw\\\\/o.jpg\",\"is_closed\":false,\"url\":\"https:\\\\/\\\\/www.yelp.com\\\\/biz\\\\/julianas-brooklyn-3?adjust_creative=b5ls8p8n8RMoGhGpe9wjPw&utm_campaign=yelp_api_v3&utm_medium=api_v3_business_search&utm_source=b5ls8p8n8RMoGhGpe9wjPw\",\"review_count\":2660,\"categories\":[{\"alias\":\"pizza\",\"title\":\"Pizza\"}],\"rating\":4.5,\"coordinates\":{\"latitude\":40.7027471877,\"longitude\":-73.993434902},\"transactions\":[\"delivery\"],\"price\":\"$$\",\"location\":{\"address1\":\"19 Old Fulton St\",\"address2\":\"\",\"address3\":\"\",\"city\":\"Brooklyn\",\"zip_code\":\"11201\",\"country\":\"US\",\"state\":\"NY\",\"display_address\":[\"19 Old Fulton St\",\"Brooklyn, NY 11201\"]},\"phone\":\"+17185966700\",\"display_phone\":\"(718) 596-6700\",\"distance\":1289.8572856708},{\"id\":\"zj8Lq1T8KIC5zwFief15jg\",\"alias\":\"prince-street-pizza-new-york-2\",\"name\":\"Prince Street Pizza\",\"image_url\":\"https:\\\\/\\\\/s3-media4.fl.yelpcdn.com\\\\/bphoto\\\\/PfI8oV4ct9ZJZNtUhSS8DQ\\\\/o.jpg\",\"is_closed\":false,\"url\":\"https:\\\\/\\\\/www.yelp.com\\\\/biz\\\\/prince-street-pizza-new-york-2?adjust_creative=b5ls8p8n8RMoGhGpe9wjPw&utm_campaign=yelp_api_v3&utm_medium=api_v3_business_search&utm_source=b5ls8p8n8RMoGhGpe9wjPw\",\"review_count\":4950,\"categories\":[{\"alias\":\"pizza\",\"title\":\"Pizza\"},{\"alias\":\"italian\",\"title\":\"Italian\"}],\"rating\":4.5,\"coordinates\":{\"latitude\":40.7230875561,\"longitude\":-73.9945300118},\"transactions\":[\"pickup\",\"delivery\"],\"price\":\"$\",\"location\":{\"address1\":\"27 Prince St\",\"address2\":null,\"address3\":\"\",\"city\":\"New York\",\"zip_code\":\"10012\",\"country\":\"US\",\"state\":\"NY\",\"display_address\":[\"27 Prince St\",\"New York, NY 10012\"]},\"phone\":\"+12129664100\",\"display_phone\":\"(212) 966-4100\",\"distance\":2209.3116178605},{\"id\":\"WG639VkTjmK5dzydd1BBJA\",\"alias\":\"rubirosa-new-york-2\",\"name\":\"Rubirosa\",\"image_url\":\"https:\\\\/\\\\/s3-media3.fl.yelpcdn.com\\\\/bphoto\\\\/F65qqO1RNThFSHKKJ4iTRA\\\\/o.jpg\",\"is_closed\":false,\"url\":\"https:\\\\/\\\\/www.yelp.com\\\\/biz\\\\/rubirosa-new-york-2?adjust_creative=b5ls8p8n8RMoGhGpe9wjPw&utm_campaign=yelp_api_v3&utm_medium=api_v3_business_search&utm_source=b5ls8p8n8RMoGhGpe9wjPw\",\"review_count\":3057,\"categories\":[{\"alias\":\"italian\",\"title\":\"Italian\"},{\"alias\":\"pizza\",\"title\":\"Pizza\"}],\"rating\":4.5,\"coordinates\":{\"latitude\":40.722766,\"longitude\":-73.996233},\"transactions\":[\"pickup\"],\"price\":\"$$\",\"location\":{\"address1\":\"235 Mulberry St\",\"address2\":\"\",\"address3\":\"\",\"city\":\"New York\",\"zip_code\":\"10012\",\"country\":\"US\",\"state\":\"NY\",\"display_address\":[\"235 Mulberry St\",\"New York, NY 10012\"]},\"phone\":\"+12129650500\",\"display_phone\":\"(212) 965-0500\",\"distance\":2268.4919495052},{\"id\":\"v1DHGRNCH9247WLYoaoA9A\",\"alias\":\"l-industrie-pizzeria-brooklyn\",\"name\":\"L\\'industrie Pizzeria\",\"image_url\":\"https:\\\\/\\\\/s3-media3.fl.yelpcdn.com\\\\/bphoto\\\\/KKB2Trak1Ou3bqJePe8RmQ\\\\/o.jpg\",\"is_closed\":false,\"url\":\"https:\\\\/\\\\/www.yelp.com\\\\/biz\\\\/l-industrie-pizzeria-brooklyn?adjust_creative=b5ls8p8n8RMoGhGpe9wjPw&utm_campaign=yelp_api_v3&utm_medium=api_v3_business_search&utm_source=b5ls8p8n8RMoGhGpe9wjPw\",\"review_count\":1000,\"categories\":[{\"alias\":\"pizza\",\"title\":\"Pizza\"}],\"rating\":4.5,\"coordinates\":{\"latitude\":40.71162,\"longitude\":-73.95783},\"transactions\":[\"delivery\"],\"price\":\"$\",\"location\":{\"address1\":\"254 S 2nd St\",\"address2\":\"\",\"address3\":\"\",\"city\":\"Brooklyn\",\"zip_code\":\"11211\",\"country\":\"US\",\"state\":\"NY\",\"display_address\":[\"254 S 2nd St\",\"Brooklyn, NY 11211\"]},\"phone\":\"+17185990002\",\"display_phone\":\"(718) 599-0002\",\"distance\":1868.2955120773},{\"id\":\"uc5qQMzs96rzjK27epDCug\",\"alias\":\"joes-pizza-new-york-4\",\"name\":\"Joe\\'s Pizza\",\"image_url\":\"https:\\\\/\\\\/s3-media3.fl.yelpcdn.com\\\\/bphoto\\\\/FKjd9RGuNH-ixnd7AQxj0g\\\\/o.jpg\",\"is_closed\":false,\"url\":\"https:\\\\/\\\\/www.yelp.com\\\\/biz\\\\/joes-pizza-new-york-4?adjust_creative=b5ls8p8n8RMoGhGpe9wjPw&utm_campaign=yelp_api_v3&utm_medium=api_v3_business_search&utm_source=b5ls8p8n8RMoGhGpe9wjPw\",\"review_count\":3025,\"categories\":[{\"alias\":\"pizza\",\"title\":\"Pizza\"}],\"rating\":4.0,\"coordinates\":{\"latitude\":40.73060076,\"longitude\":-74.00215997},\"transactions\":[\"delivery\"],\"price\":\"$\",\"location\":{\"address1\":\"7 Carmine St\",\"address2\":\"\",\"address3\":\"\",\"city\":\"New York\",\"zip_code\":\"10014\",\"country\":\"US\",\"state\":\"NY\",\"display_address\":[\"7 Carmine St\",\"New York, NY 10014\"]},\"phone\":\"+12123661182\",\"display_phone\":\"(212) 366-1182\",\"distance\":3263.174142983},{\"id\":\"hB2S1y5T9ufMz5ksHHhdIA\",\"alias\":\"rizzos-fine-pizza-astoria\",\"name\":\"Rizzo\\'s Fine Pizza\",\"image_url\":\"https:\\\\/\\\\/s3-media3.fl.yelpcdn.com\\\\/bphoto\\\\/4V3ySXZSTVQgHRnC9CGhZg\\\\/o.jpg\",\"is_closed\":false,\"url\":\"https:\\\\/\\\\/www.yelp.com\\\\/biz\\\\/rizzos-fine-pizza-astoria?adjust_creative=b5ls8p8n8RMoGhGpe9wjPw&utm_campaign=yelp_api_v3&utm_medium=api_v3_business_search&utm_source=b5ls8p8n8RMoGhGpe9wjPw\",\"review_count\":661,\"categories\":[{\"alias\":\"pizza\",\"title\":\"Pizza\"}],\"rating\":4.0,\"coordinates\":{\"latitude\":40.76337,\"longitude\":-73.915124},\"transactions\":[\"pickup\",\"delivery\"],\"price\":\"$\",\"location\":{\"address1\":\"3013 Steinway St\",\"address2\":\"\",\"address3\":\"\",\"city\":\"Astoria\",\"zip_code\":\"11103\",\"country\":\"US\",\"state\":\"NY\",\"display_address\":[\"3013 Steinway St\",\"Astoria, NY 11103\"]},\"phone\":\"+17187219862\",\"display_phone\":\"(718) 721-9862\",\"distance\":8275.1150209316},{\"id\":\"KEEXuHCYhsQJ-zpJhu98bA\",\"alias\":\"joes-pizza-new-york-148\",\"name\":\"Joe\\'s Pizza\",\"image_url\":\"https:\\\\/\\\\/s3-media4.fl.yelpcdn.com\\\\/bphoto\\\\/FluVgKezP5ifs7greHV8Qg\\\\/o.jpg\",\"is_closed\":false,\"url\":\"https:\\\\/\\\\/www.yelp.com\\\\/biz\\\\/joes-pizza-new-york-148?adjust_creative=b5ls8p8n8RMoGhGpe9wjPw&utm_campaign=yelp_api_v3&utm_medium=api_v3_business_search&utm_source=b5ls8p8n8RMoGhGpe9wjPw\",\"review_count\":1939,\"categories\":[{\"alias\":\"pizza\",\"title\":\"Pizza\"}],\"rating\":4.0,\"coordinates\":{\"latitude\":40.7547,\"longitude\":-73.98696},\"transactions\":[\"pickup\",\"delivery\"],\"price\":\"$\",\"location\":{\"address1\":\"1435 Broadway\",\"address2\":\"\",\"address3\":null,\"city\":\"New York\",\"zip_code\":\"10018\",\"country\":\"US\",\"state\":\"NY\",\"display_address\":[\"1435 Broadway\",\"New York, NY 10018\"]},\"phone\":\"+16465594878\",\"display_phone\":\"(646) 559-4878\",\"distance\":5345.1924285317},{\"id\":\"0UdC0VYX6aAvLiOcpR4MVQ\",\"alias\":\"joes-pizza-new-york-7\",\"name\":\"Joe\\'s Pizza\",\"image_url\":\"https:\\\\/\\\\/s3-media2.fl.yelpcdn.com\\\\/bphoto\\\\/QXu6RGXGrtRWssVmFE7KpQ\\\\/o.jpg\",\"is_closed\":false,\"url\":\"https:\\\\/\\\\/www.yelp.com\\\\/biz\\\\/joes-pizza-new-york-7?adjust_creative=b5ls8p8n8RMoGhGpe9wjPw&utm_campaign=yelp_api_v3&utm_medium=api_v3_business_search&utm_source=b5ls8p8n8RMoGhGpe9wjPw\",\"review_count\":1058,\"categories\":[{\"alias\":\"pizza\",\"title\":\"Pizza\"}],\"rating\":4.0,\"coordinates\":{\"latitude\":40.73331,\"longitude\":-73.98763},\"transactions\":[\"pickup\",\"delivery\"],\"price\":\"$\",\"location\":{\"address1\":\"150 E 14th St\",\"address2\":\"\",\"address3\":\"\",\"city\":\"New York\",\"zip_code\":\"10003\",\"country\":\"US\",\"state\":\"NY\",\"display_address\":[\"150 E 14th St\",\"New York, NY 10003\"]},\"phone\":\"+12123889474\",\"display_phone\":\"(212) 388-9474\",\"distance\":3005.8193551137},{\"id\":\"2ggi1luerd3Mf_C82JvCYg\",\"alias\":\"grimaldis-pizzeria-brooklyn-4\",\"name\":\"Grimaldi\\'s Pizzeria\",\"image_url\":\"https:\\\\/\\\\/s3-media1.fl.yelpcdn.com\\\\/bphoto\\\\/Ek1cwe4Dh74lu2P4BgHsFQ\\\\/o.jpg\",\"is_closed\":false,\"url\":\"https:\\\\/\\\\/www.yelp.com\\\\/biz\\\\/grimaldis-pizzeria-brooklyn-4?adjust_creative=b5ls8p8n8RMoGhGpe9wjPw&utm_campaign=yelp_api_v3&utm_medium=api_v3_business_search&utm_source=b5ls8p8n8RMoGhGpe9wjPw\",\"review_count\":4940,\"categories\":[{\"alias\":\"pizza\",\"title\":\"Pizza\"},{\"alias\":\"desserts\",\"title\":\"Desserts\"},{\"alias\":\"beer_and_wine\",\"title\":\"Beer, Wine & Spirits\"}],\"rating\":3.5,\"coordinates\":{\"latitude\":40.7026459,\"longitude\":-73.9932413},\"transactions\":[\"pickup\",\"delivery\"],\"price\":\"$$\",\"location\":{\"address1\":\"1 Front St\",\"address2\":\"\",\"address3\":\"\",\"city\":\"Brooklyn\",\"zip_code\":\"11201\",\"country\":\"US\",\"state\":\"NY\",\"display_address\":[\"1 Front St\",\"Brooklyn, NY 11201\"]},\"phone\":\"+17188584300\",\"display_phone\":\"(718) 858-4300\",\"distance\":1278.8757255932},{\"id\":\"MphfKkYFEe0BDQ6hZ0A5fA\",\"alias\":\"gelso-and-grand-new-york\",\"name\":\"Gelso & Grand\",\"image_url\":\"https:\\\\/\\\\/s3-media3.fl.yelpcdn.com\\\\/bphoto\\\\/ZV0bgSfrkjlb1rewpItqCA\\\\/o.jpg\",\"is_closed\":false,\"url\":\"https:\\\\/\\\\/www.yelp.com\\\\/biz\\\\/gelso-and-grand-new-york?adjust_creative=b5ls8p8n8RMoGhGpe9wjPw&utm_campaign=yelp_api_v3&utm_medium=api_v3_business_search&utm_source=b5ls8p8n8RMoGhGpe9wjPw\",\"review_count\":1417,\"categories\":[{\"alias\":\"italian\",\"title\":\"Italian\"},{\"alias\":\"pastashops\",\"title\":\"Pasta Shops\"},{\"alias\":\"pizza\",\"title\":\"Pizza\"}],\"rating\":4.5,\"coordinates\":{\"latitude\":40.71958,\"longitude\":-73.99734},\"transactions\":[\"pickup\",\"delivery\"],\"price\":\"$$\",\"location\":{\"address1\":\"186 Grand St\",\"address2\":\"\",\"address3\":\"\",\"city\":\"New York\",\"zip_code\":\"10013\",\"country\":\"US\",\"state\":\"NY\",\"display_address\":[\"186 Grand St\",\"New York, NY 10013\"]},\"phone\":\"+12122261600\",\"display_phone\":\"(212) 226-1600\",\"distance\":2076.0405590642},{\"id\":\"LF1QAuvpfX7KGQlg2zMg6Q\",\"alias\":\"johns-of-bleecker-street-new-york-2\",\"name\":\"John\\'s of Bleecker Street\",\"image_url\":\"https:\\\\/\\\\/s3-media1.fl.yelpcdn.com\\\\/bphoto\\\\/r2bmU0uH-6SSxqjRbITDgg\\\\/o.jpg\",\"is_closed\":false,\"url\":\"https:\\\\/\\\\/www.yelp.com\\\\/biz\\\\/johns-of-bleecker-street-new-york-2?adjust_creative=b5ls8p8n8RMoGhGpe9wjPw&utm_campaign=yelp_api_v3&utm_medium=api_v3_business_search&utm_source=b5ls8p8n8RMoGhGpe9wjPw\",\"review_count\":2585,\"categories\":[{\"alias\":\"pizza\",\"title\":\"Pizza\"}],\"rating\":4.0,\"coordinates\":{\"latitude\":40.73158,\"longitude\":-74.00332},\"transactions\":[\"pickup\",\"delivery\"],\"price\":\"$$\",\"location\":{\"address1\":\"278 Bleecker St\",\"address2\":\"\",\"address3\":\"\",\"city\":\"New York\",\"zip_code\":\"10014\",\"country\":\"US\",\"state\":\"NY\",\"display_address\":[\"278 Bleecker St\",\"New York, NY 10014\"]},\"phone\":\"+12122431680\",\"display_phone\":\"(212) 243-1680\",\"distance\":3418.6833857035},{\"id\":\"Ei2EzQRUAqARjGc7OUtMKQ\",\"alias\":\"mancinis-wood-fired-pizza-brooklyn-2\",\"name\":\"Mancini\\'s Wood-Fired Pizza\",\"image_url\":\"https:\\\\/\\\\/s3-media2.fl.yelpcdn.com\\\\/bphoto\\\\/BAXl3N6NDl8hKbMMRyMm3g\\\\/o.jpg\",\"is_closed\":false,\"url\":\"https:\\\\/\\\\/www.yelp.com\\\\/biz\\\\/mancinis-wood-fired-pizza-brooklyn-2?adjust_creative=b5ls8p8n8RMoGhGpe9wjPw&utm_campaign=yelp_api_v3&utm_medium=api_v3_business_search&utm_source=b5ls8p8n8RMoGhGpe9wjPw\",\"review_count\":148,\"categories\":[{\"alias\":\"pizza\",\"title\":\"Pizza\"},{\"alias\":\"italian\",\"title\":\"Italian\"}],\"rating\":4.5,\"coordinates\":{\"latitude\":40.62207,\"longitude\":-74.02591},\"transactions\":[\"pickup\",\"delivery\"],\"price\":\"$\",\"location\":{\"address1\":\"8504 5th Ave\",\"address2\":\"\",\"address3\":null,\"city\":\"Brooklyn\",\"zip_code\":\"11209\",\"country\":\"US\",\"state\":\"NY\",\"display_address\":[\"8504 5th Ave\",\"Brooklyn, NY 11209\"]},\"phone\":\"+17183335209\",\"display_phone\":\"(718) 333-5209\",\"distance\":10229.359699469},{\"id\":\"16ZnHpuaaBt92XWeJHCC5A\",\"alias\":\"olio-e-pi\\\\u00f9-new-york-7\",\"name\":\"Olio e Pi\\\\u00f9\",\"image_url\":\"https:\\\\/\\\\/s3-media4.fl.yelpcdn.com\\\\/bphoto\\\\/CUpPgz_Q4QBHxxxxDJJTTA\\\\/o.jpg\",\"is_closed\":false,\"url\":\"https:\\\\/\\\\/www.yelp.com\\\\/biz\\\\/olio-e-pi%C3%B9-new-york-7?adjust_creative=b5ls8p8n8RMoGhGpe9wjPw&utm_campaign=yelp_api_v3&utm_medium=api_v3_business_search&utm_source=b5ls8p8n8RMoGhGpe9wjPw\",\"review_count\":4561,\"categories\":[{\"alias\":\"pizza\",\"title\":\"Pizza\"},{\"alias\":\"italian\",\"title\":\"Italian\"},{\"alias\":\"cocktailbars\",\"title\":\"Cocktail Bars\"}],\"rating\":4.5,\"coordinates\":{\"latitude\":40.7337980361,\"longitude\":-73.9997739265},\"transactions\":[\"pickup\",\"delivery\"],\"price\":\"$$\",\"location\":{\"address1\":\"3 Greenwich Ave\",\"address2\":null,\"address3\":\"\",\"city\":\"New York\",\"zip_code\":\"10014\",\"country\":\"US\",\"state\":\"NY\",\"display_address\":[\"3 Greenwich Ave\",\"New York, NY 10014\"]},\"phone\":\"+12122436546\",\"display_phone\":\"(212) 243-6546\",\"distance\":3450.2286579892},{\"id\":\"GRXvvB1OKMuW4XDWEaVAlg\",\"alias\":\"joes-pizza-brooklyn-8\",\"name\":\"Joe\\'s Pizza\",\"image_url\":\"https:\\\\/\\\\/s3-media3.fl.yelpcdn.com\\\\/bphoto\\\\/0WEXB_9LUY86MTKnc2UXug\\\\/o.jpg\",\"is_closed\":false,\"url\":\"https:\\\\/\\\\/www.yelp.com\\\\/biz\\\\/joes-pizza-brooklyn-8?adjust_creative=b5ls8p8n8RMoGhGpe9wjPw&utm_campaign=yelp_api_v3&utm_medium=api_v3_business_search&utm_source=b5ls8p8n8RMoGhGpe9wjPw\",\"review_count\":447,\"categories\":[{\"alias\":\"pizza\",\"title\":\"Pizza\"}],\"rating\":4.0,\"coordinates\":{\"latitude\":40.7168952,\"longitude\":-73.9589299673},\"transactions\":[\"pickup\",\"delivery\"],\"price\":\"$\",\"location\":{\"address1\":\"216 Bedford Ave\",\"address2\":\"\",\"address3\":null,\"city\":\"Brooklyn\",\"zip_code\":\"11249\",\"country\":\"US\",\"state\":\"NY\",\"display_address\":[\"216 Bedford Ave\",\"Brooklyn, NY 11249\"]},\"phone\":\"+17183882216\",\"display_phone\":\"(718) 388-2216\",\"distance\":2032.5447124251},{\"id\":\"i_rg-OLXQbpRUN7O3MeCeA\",\"alias\":\"piz-zetta-brooklyn-2\",\"name\":\"Piz-zetta\",\"image_url\":\"https:\\\\/\\\\/s3-media2.fl.yelpcdn.com\\\\/bphoto\\\\/rEKWLFnjgEtBr6poVeZznA\\\\/o.jpg\",\"is_closed\":false,\"url\":\"https:\\\\/\\\\/www.yelp.com\\\\/biz\\\\/piz-zetta-brooklyn-2?adjust_creative=b5ls8p8n8RMoGhGpe9wjPw&utm_campaign=yelp_api_v3&utm_medium=api_v3_business_search&utm_source=b5ls8p8n8RMoGhGpe9wjPw\",\"review_count\":342,\"categories\":[{\"alias\":\"italian\",\"title\":\"Italian\"},{\"alias\":\"pizza\",\"title\":\"Pizza\"}],\"rating\":4.5,\"coordinates\":{\"latitude\":40.691166582,\"longitude\":-73.9906591152},\"transactions\":[\"pickup\",\"delivery\"],\"price\":\"$\",\"location\":{\"address1\":\"90 Livingston St\",\"address2\":\"\",\"address3\":\"\",\"city\":\"Brooklyn\",\"zip_code\":\"11201\",\"country\":\"US\",\"state\":\"NY\",\"display_address\":[\"90 Livingston St\",\"Brooklyn, NY 11201\"]},\"phone\":\"+17184227878\",\"display_phone\":\"(718) 422-7878\",\"distance\":2006.5612384575},{\"id\":\"Q9F2ocrmYuGt1yn3M7MOBw\",\"alias\":\"lucali-brooklyn-3\",\"name\":\"Lucali\",\"image_url\":\"https:\\\\/\\\\/s3-media3.fl.yelpcdn.com\\\\/bphoto\\\\/Yl_eZ_DW_iaumnU-pfSoaw\\\\/o.jpg\",\"is_closed\":false,\"url\":\"https:\\\\/\\\\/www.yelp.com\\\\/biz\\\\/lucali-brooklyn-3?adjust_creative=b5ls8p8n8RMoGhGpe9wjPw&utm_campaign=yelp_api_v3&utm_medium=api_v3_business_search&utm_source=b5ls8p8n8RMoGhGpe9wjPw\",\"review_count\":1966,\"categories\":[{\"alias\":\"pizza\",\"title\":\"Pizza\"}],\"rating\":4.0,\"coordinates\":{\"latitude\":40.6818407467,\"longitude\":-74.0003327},\"transactions\":[\"delivery\"],\"price\":\"$$\",\"location\":{\"address1\":\"575 Henry St\",\"address2\":null,\"address3\":\"\",\"city\":\"Brooklyn\",\"zip_code\":\"11231\",\"country\":\"US\",\"state\":\"NY\",\"display_address\":[\"575 Henry St\",\"Brooklyn, NY 11231\"]},\"phone\":\"+17188584086\",\"display_phone\":\"(718) 858-4086\",\"distance\":3315.2311894953},{\"id\":\"2xQmBB6w-W6lxiex80fA9A\",\"alias\":\"luigis-pizzeria-brooklyn-4\",\"name\":\"Luigi\\'s Pizzeria\",\"image_url\":\"https:\\\\/\\\\/s3-media4.fl.yelpcdn.com\\\\/bphoto\\\\/j8wXRUzFnc8XJCFqpt5ZsQ\\\\/o.jpg\",\"is_closed\":false,\"url\":\"https:\\\\/\\\\/www.yelp.com\\\\/biz\\\\/luigis-pizzeria-brooklyn-4?adjust_creative=b5ls8p8n8RMoGhGpe9wjPw&utm_campaign=yelp_api_v3&utm_medium=api_v3_business_search&utm_source=b5ls8p8n8RMoGhGpe9wjPw\",\"review_count\":284,\"categories\":[{\"alias\":\"pizza\",\"title\":\"Pizza\"}],\"rating\":4.5,\"coordinates\":{\"latitude\":40.6897,\"longitude\":-73.965369},\"transactions\":[\"delivery\"],\"price\":\"$\",\"location\":{\"address1\":\"326 Dekalb Ave\",\"address2\":\"\",\"address3\":\"\",\"city\":\"Brooklyn\",\"zip_code\":\"11205\",\"country\":\"US\",\"state\":\"NY\",\"display_address\":[\"326 Dekalb Ave\",\"Brooklyn, NY 11205\"]},\"phone\":\"+17187832430\",\"display_phone\":\"(718) 783-2430\",\"distance\":2246.7663980525},{\"id\":\"4h4Tuuc56YPO6lWfZ1bdSQ\",\"alias\":\"joes-pizza-new-york-152\",\"name\":\"Joe\\'s Pizza\",\"image_url\":\"https:\\\\/\\\\/s3-media4.fl.yelpcdn.com\\\\/bphoto\\\\/sUjegcIlz9bo1s20BqM5KA\\\\/o.jpg\",\"is_closed\":false,\"url\":\"https:\\\\/\\\\/www.yelp.com\\\\/biz\\\\/joes-pizza-new-york-152?adjust_creative=b5ls8p8n8RMoGhGpe9wjPw&utm_campaign=yelp_api_v3&utm_medium=api_v3_business_search&utm_source=b5ls8p8n8RMoGhGpe9wjPw\",\"review_count\":477,\"categories\":[{\"alias\":\"pizza\",\"title\":\"Pizza\"}],\"rating\":4.0,\"coordinates\":{\"latitude\":40.7101297729,\"longitude\":-74.0077206865},\"transactions\":[\"pickup\",\"delivery\"],\"price\":\"$\",\"location\":{\"address1\":\"124 Fulton St\",\"address2\":\"\",\"address3\":null,\"city\":\"New York\",\"zip_code\":\"10038\",\"country\":\"US\",\"state\":\"NY\",\"display_address\":[\"124 Fulton St\",\"New York, NY 10038\"]},\"phone\":\"+12122670860\",\"display_phone\":\"(212) 267-0860\",\"distance\":2430.501306689},{\"id\":\"hGksyTiHBBdrhbiVjXzWVw\",\"alias\":\"scarrs-pizza-new-york\",\"name\":\"Scarr\\'s Pizza\",\"image_url\":\"https:\\\\/\\\\/s3-media3.fl.yelpcdn.com\\\\/bphoto\\\\/xonxGJK91P_Ow3iY7olsxA\\\\/o.jpg\",\"is_closed\":false,\"url\":\"https:\\\\/\\\\/www.yelp.com\\\\/biz\\\\/scarrs-pizza-new-york?adjust_creative=b5ls8p8n8RMoGhGpe9wjPw&utm_campaign=yelp_api_v3&utm_medium=api_v3_business_search&utm_source=b5ls8p8n8RMoGhGpe9wjPw\",\"review_count\":783,\"categories\":[{\"alias\":\"pizza\",\"title\":\"Pizza\"}],\"rating\":4.0,\"coordinates\":{\"latitude\":40.7157238,\"longitude\":-73.9916115},\"transactions\":[\"pickup\",\"delivery\"],\"price\":\"$\",\"location\":{\"address1\":\"35 Orchard St\",\"address2\":\"\",\"address3\":\"\",\"city\":\"New York\",\"zip_code\":\"10002\",\"country\":\"US\",\"state\":\"NY\",\"display_address\":[\"35 Orchard St\",\"New York, NY 10002\"]},\"phone\":\"+12123343481\",\"display_phone\":\"(212) 334-3481\",\"distance\":1429.1431843097},{\"id\":\"Ovniqgc47wZIEj-0rrEf3w\",\"alias\":\"macoletta-new-york-2\",\"name\":\"Macoletta\",\"image_url\":\"https:\\\\/\\\\/s3-media3.fl.yelpcdn.com\\\\/bphoto\\\\/c3GlZpR4AKFGR9g0yB0EKA\\\\/o.jpg\",\"is_closed\":false,\"url\":\"https:\\\\/\\\\/www.yelp.com\\\\/biz\\\\/macoletta-new-york-2?adjust_creative=b5ls8p8n8RMoGhGpe9wjPw&utm_campaign=yelp_api_v3&utm_medium=api_v3_business_search&utm_source=b5ls8p8n8RMoGhGpe9wjPw\",\"review_count\":19,\"categories\":[{\"alias\":\"pizza\",\"title\":\"Pizza\"}],\"rating\":5.0,\"coordinates\":{\"latitude\":40.7210325,\"longitude\":-73.9601995},\"transactions\":[\"pickup\",\"delivery\"],\"price\":null,\"location\":{\"address1\":\"58 N 9th St\",\"address2\":null,\"address3\":\"\",\"city\":\"New York\",\"zip_code\":\"11249\",\"country\":\"US\",\"state\":\"NY\",\"display_address\":[\"58 N 9th St\",\"New York, NY 11249\"]},\"phone\":\"+16075667105\",\"display_phone\":\"(607) 566-7105\",\"distance\":2229.3983216332},{\"id\":\"hZBxJfZtDjnMzH_jNFNHRQ\",\"alias\":\"little-pizza-parlor-brooklyn\",\"name\":\"Little Pizza Parlor\",\"image_url\":\"https:\\\\/\\\\/s3-media2.fl.yelpcdn.com\\\\/bphoto\\\\/99YkIiRVzlCMcXsXkwBsTA\\\\/o.jpg\",\"is_closed\":false,\"url\":\"https:\\\\/\\\\/www.yelp.com\\\\/biz\\\\/little-pizza-parlor-brooklyn?adjust_creative=b5ls8p8n8RMoGhGpe9wjPw&utm_campaign=yelp_api_v3&utm_medium=api_v3_business_search&utm_source=b5ls8p8n8RMoGhGpe9wjPw\",\"review_count\":37,\"categories\":[{\"alias\":\"pizza\",\"title\":\"Pizza\"}],\"rating\":4.5,\"coordinates\":{\"latitude\":40.692425,\"longitude\":-73.984467},\"transactions\":[\"pickup\",\"delivery\"],\"price\":null,\"location\":{\"address1\":\"192 Duffield St\",\"address2\":null,\"address3\":\"\",\"city\":\"Brooklyn\",\"zip_code\":\"11201\",\"country\":\"US\",\"state\":\"NY\",\"display_address\":[\"192 Duffield St\",\"Brooklyn, NY 11201\"]},\"phone\":\"+13477991249\",\"display_phone\":\"(347) 799-1249\",\"distance\":1677.958896787},{\"id\":\"oJ_XSPZFpvIt6rvheSQl7A\",\"alias\":\"bleecker-street-pizza-new-york\",\"name\":\"Bleecker Street Pizza\",\"image_url\":\"https:\\\\/\\\\/s3-media2.fl.yelpcdn.com\\\\/bphoto\\\\/WJ6UTgGBw7Lsjfof7Z_2aw\\\\/o.jpg\",\"is_closed\":false,\"url\":\"https:\\\\/\\\\/www.yelp.com\\\\/biz\\\\/bleecker-street-pizza-new-york?adjust_creative=b5ls8p8n8RMoGhGpe9wjPw&utm_campaign=yelp_api_v3&utm_medium=api_v3_business_search&utm_source=b5ls8p8n8RMoGhGpe9wjPw\",\"review_count\":2851,\"categories\":[{\"alias\":\"pizza\",\"title\":\"Pizza\"},{\"alias\":\"italian\",\"title\":\"Italian\"}],\"rating\":4.0,\"coordinates\":{\"latitude\":40.7320627017,\"longitude\":-74.003655227},\"transactions\":[\"pickup\",\"delivery\"],\"price\":\"$\",\"location\":{\"address1\":\"69 7th Ave S\",\"address2\":null,\"address3\":\"\",\"city\":\"New York\",\"zip_code\":\"10014\",\"country\":\"US\",\"state\":\"NY\",\"display_address\":[\"69 7th Ave S\",\"New York, NY 10014\"]},\"phone\":\"+12129244466\",\"display_phone\":\"(212) 924-4466\",\"distance\":3469.4713240425},{\"id\":\"vpkTNjq9dRh9rT3Nh0pe-A\",\"alias\":\"nolita-pizza-new-york-2\",\"name\":\"Nolita Pizza\",\"image_url\":\"https:\\\\/\\\\/s3-media2.fl.yelpcdn.com\\\\/bphoto\\\\/_BKVVoeQoEeYf0DjWcfArg\\\\/o.jpg\",\"is_closed\":false,\"url\":\"https:\\\\/\\\\/www.yelp.com\\\\/biz\\\\/nolita-pizza-new-york-2?adjust_creative=b5ls8p8n8RMoGhGpe9wjPw&utm_campaign=yelp_api_v3&utm_medium=api_v3_business_search&utm_source=b5ls8p8n8RMoGhGpe9wjPw\",\"review_count\":205,\"categories\":[{\"alias\":\"pizza\",\"title\":\"Pizza\"},{\"alias\":\"gluten_free\",\"title\":\"Gluten-Free\"},{\"alias\":\"italian\",\"title\":\"Italian\"}],\"rating\":4.5,\"coordinates\":{\"latitude\":40.7208883,\"longitude\":-73.9962404},\"transactions\":[\"pickup\",\"delivery\"],\"price\":\"$\",\"location\":{\"address1\":\"68 Kenmare St\",\"address2\":null,\"address3\":null,\"city\":\"New York\",\"zip_code\":\"10012\",\"country\":\"US\",\"state\":\"NY\",\"display_address\":[\"68 Kenmare St\",\"New York, NY 10012\"]},\"phone\":\"+16468959131\",\"display_phone\":\"(646) 895-9131\",\"distance\":2111.4935227234},{\"id\":\"-9NO2IDCJMyNGZMAQ1-VQw\",\"alias\":\"ny-pizza-suprema-new-york\",\"name\":\"NY Pizza Suprema\",\"image_url\":\"https:\\\\/\\\\/s3-media4.fl.yelpcdn.com\\\\/bphoto\\\\/EqbDXneMuQP6pw6GemVdQA\\\\/o.jpg\",\"is_closed\":false,\"url\":\"https:\\\\/\\\\/www.yelp.com\\\\/biz\\\\/ny-pizza-suprema-new-york?adjust_creative=b5ls8p8n8RMoGhGpe9wjPw&utm_campaign=yelp_api_v3&utm_medium=api_v3_business_search&utm_source=b5ls8p8n8RMoGhGpe9wjPw\",\"review_count\":2483,\"categories\":[{\"alias\":\"pizza\",\"title\":\"Pizza\"}],\"rating\":4.5,\"coordinates\":{\"latitude\":40.7502059937,\"longitude\":-73.9953231812},\"transactions\":[\"pickup\",\"delivery\"],\"price\":\"$\",\"location\":{\"address1\":\"413 8th Ave\",\"address2\":\"\",\"address3\":\"\",\"city\":\"New York\",\"zip_code\":\"10001\",\"country\":\"US\",\"state\":\"NY\",\"display_address\":[\"413 8th Ave\",\"New York, NY 10001\"]},\"phone\":\"+12125948939\",\"display_phone\":\"(212) 594-8939\",\"distance\":4995.2157629365},{\"id\":\"FhXjAc6nKLf414KxYujUHw\",\"alias\":\"robertas-brooklyn-2\",\"name\":\"Roberta\\'s\",\"image_url\":\"https:\\\\/\\\\/s3-media4.fl.yelpcdn.com\\\\/bphoto\\\\/8fY9fA5TtCF0ebdTNph9mQ\\\\/o.jpg\",\"is_closed\":false,\"url\":\"https:\\\\/\\\\/www.yelp.com\\\\/biz\\\\/robertas-brooklyn-2?adjust_creative=b5ls8p8n8RMoGhGpe9wjPw&utm_campaign=yelp_api_v3&utm_medium=api_v3_business_search&utm_source=b5ls8p8n8RMoGhGpe9wjPw\",\"review_count\":3288,\"categories\":[{\"alias\":\"pizza\",\"title\":\"Pizza\"},{\"alias\":\"italian\",\"title\":\"Italian\"}],\"rating\":4.0,\"coordinates\":{\"latitude\":40.70493,\"longitude\":-73.93399},\"transactions\":[\"pickup\",\"delivery\"],\"price\":\"$$\",\"location\":{\"address1\":\"261 Moore St\",\"address2\":\"\",\"address3\":\"\",\"city\":\"Brooklyn\",\"zip_code\":\"11206\",\"country\":\"US\",\"state\":\"NY\",\"display_address\":[\"261 Moore St\",\"Brooklyn, NY 11206\"]},\"phone\":\"+17184171118\",\"display_phone\":\"(718) 417-1118\",\"distance\":3816.5926148644},{\"id\":\"TWH4MjLtN1fKlF-7n6YXHg\",\"alias\":\"lil-frankies-new-york\",\"name\":\"Lil Frankie\\'s\",\"image_url\":\"https:\\\\/\\\\/s3-media3.fl.yelpcdn.com\\\\/bphoto\\\\/t0OsEVlzDWgM_NMGVHmPiA\\\\/o.jpg\",\"is_closed\":false,\"url\":\"https:\\\\/\\\\/www.yelp.com\\\\/biz\\\\/lil-frankies-new-york?adjust_creative=b5ls8p8n8RMoGhGpe9wjPw&utm_campaign=yelp_api_v3&utm_medium=api_v3_business_search&utm_source=b5ls8p8n8RMoGhGpe9wjPw\",\"review_count\":1459,\"categories\":[{\"alias\":\"pizza\",\"title\":\"Pizza\"},{\"alias\":\"italian\",\"title\":\"Italian\"}],\"rating\":4.0,\"coordinates\":{\"latitude\":40.723625,\"longitude\":-73.988555},\"transactions\":[\"pickup\",\"delivery\"],\"price\":\"$$\",\"location\":{\"address1\":\"19 1st Ave\",\"address2\":\"\",\"address3\":\"\",\"city\":\"New York\",\"zip_code\":\"10003\",\"country\":\"US\",\"state\":\"NY\",\"display_address\":[\"19 1st Ave\",\"New York, NY 10003\"]},\"phone\":\"+12124204900\",\"display_phone\":\"(212) 420-4900\",\"distance\":2006.2564386478},{\"id\":\"xxgcU_oFIox_pAmroo9WwA\",\"alias\":\"front-street-pizza-brooklyn\",\"name\":\"Front Street Pizza\",\"image_url\":\"https:\\\\/\\\\/s3-media2.fl.yelpcdn.com\\\\/bphoto\\\\/wRdm4fNh0NWUSXMuPBTI9g\\\\/o.jpg\",\"is_closed\":false,\"url\":\"https:\\\\/\\\\/www.yelp.com\\\\/biz\\\\/front-street-pizza-brooklyn?adjust_creative=b5ls8p8n8RMoGhGpe9wjPw&utm_campaign=yelp_api_v3&utm_medium=api_v3_business_search&utm_source=b5ls8p8n8RMoGhGpe9wjPw\",\"review_count\":459,\"categories\":[{\"alias\":\"pizza\",\"title\":\"Pizza\"},{\"alias\":\"bars\",\"title\":\"Bars\"},{\"alias\":\"italian\",\"title\":\"Italian\"}],\"rating\":4.0,\"coordinates\":{\"latitude\":40.70244,\"longitude\":-73.98943},\"transactions\":[\"pickup\",\"delivery\"],\"price\":\"$\",\"location\":{\"address1\":\"80 Front St\",\"address2\":\"\",\"address3\":\"\",\"city\":\"Brooklyn\",\"zip_code\":\"11201\",\"country\":\"US\",\"state\":\"NY\",\"display_address\":[\"80 Front St\",\"Brooklyn, NY 11201\"]},\"phone\":\"+17188753700\",\"display_phone\":\"(718) 875-3700\",\"distance\":988.8432387121},{\"id\":\"afuiZyn9oOyyCpuW7wGfHQ\",\"alias\":\"l-antica-pizzeria-da-michele-new-york\",\"name\":\"L\\'Antica Pizzeria Da Michele NYC\",\"image_url\":\"https:\\\\/\\\\/s3-media1.fl.yelpcdn.com\\\\/bphoto\\\\/QxmDIhZPpy60eirXxN3h5g\\\\/o.jpg\",\"is_closed\":false,\"url\":\"https:\\\\/\\\\/www.yelp.com\\\\/biz\\\\/l-antica-pizzeria-da-michele-new-york?adjust_creative=b5ls8p8n8RMoGhGpe9wjPw&utm_campaign=yelp_api_v3&utm_medium=api_v3_business_search&utm_source=b5ls8p8n8RMoGhGpe9wjPw\",\"review_count\":83,\"categories\":[{\"alias\":\"pizza\",\"title\":\"Pizza\"},{\"alias\":\"bars\",\"title\":\"Bars\"},{\"alias\":\"italian\",\"title\":\"Italian\"}],\"rating\":4.5,\"coordinates\":{\"latitude\":40.737072,\"longitude\":-74.001642},\"transactions\":[\"pickup\",\"delivery\"],\"price\":\"$$$\",\"location\":{\"address1\":\"2 Bank St\",\"address2\":null,\"address3\":\"\",\"city\":\"New York\",\"zip_code\":\"10014\",\"country\":\"US\",\"state\":\"NY\",\"display_address\":[\"2 Bank St\",\"New York, NY 10014\"]},\"phone\":\"+19295246682\",\"display_phone\":\"(929) 524-6682\",\"distance\":3837.9470317332},{\"id\":\"k3vbv0tbV83IrfaH2Z5t5Q\",\"alias\":\"maneros-pizza-new-york\",\"name\":\"Manero\\'s of Mulberry\",\"image_url\":\"https:\\\\/\\\\/s3-media1.fl.yelpcdn.com\\\\/bphoto\\\\/jHiIWR6M-PnbWp-rcQeiWQ\\\\/o.jpg\",\"is_closed\":false,\"url\":\"https:\\\\/\\\\/www.yelp.com\\\\/biz\\\\/maneros-pizza-new-york?adjust_creative=b5ls8p8n8RMoGhGpe9wjPw&utm_campaign=yelp_api_v3&utm_medium=api_v3_business_search&utm_source=b5ls8p8n8RMoGhGpe9wjPw\",\"review_count\":100,\"categories\":[{\"alias\":\"pizza\",\"title\":\"Pizza\"}],\"rating\":4.5,\"coordinates\":{\"latitude\":40.717593,\"longitude\":-73.998396},\"transactions\":[\"pickup\",\"delivery\"],\"price\":null,\"location\":{\"address1\":\"113 Mulberry St\",\"address2\":\"\",\"address3\":null,\"city\":\"New York\",\"zip_code\":\"10013\",\"country\":\"US\",\"state\":\"NY\",\"display_address\":[\"113 Mulberry St\",\"New York, NY 10013\"]},\"phone\":\"+12129616183\",\"display_phone\":\"(212) 961-6183\",\"distance\":2009.2751995849},{\"id\":\"15k7iqFbhf4h8L01yggLqg\",\"alias\":\"song-e-napule-new-york\",\"name\":\"Song E Napule\",\"image_url\":\"https:\\\\/\\\\/s3-media2.fl.yelpcdn.com\\\\/bphoto\\\\/SQCbvLJTKKJX_tZXpeOP5g\\\\/o.jpg\",\"is_closed\":false,\"url\":\"https:\\\\/\\\\/www.yelp.com\\\\/biz\\\\/song-e-napule-new-york?adjust_creative=b5ls8p8n8RMoGhGpe9wjPw&utm_campaign=yelp_api_v3&utm_medium=api_v3_business_search&utm_source=b5ls8p8n8RMoGhGpe9wjPw\",\"review_count\":706,\"categories\":[{\"alias\":\"pizza\",\"title\":\"Pizza\"},{\"alias\":\"italian\",\"title\":\"Italian\"}],\"rating\":4.5,\"coordinates\":{\"latitude\":40.72813,\"longitude\":-74.00188},\"transactions\":[\"pickup\",\"delivery\"],\"price\":\"$$\",\"location\":{\"address1\":\"146 W Houston St\",\"address2\":null,\"address3\":\"\",\"city\":\"New York\",\"zip_code\":\"10012\",\"country\":\"US\",\"state\":\"NY\",\"display_address\":[\"146 W Houston St\",\"New York, NY 10012\"]},\"phone\":\"+12125331242\",\"display_phone\":\"(212) 533-1242\",\"distance\":3034.2864503016},{\"id\":\"2FgUndzCT_jJATbmrBDVBg\",\"alias\":\"paulie-gees-slice-shop-brooklyn\",\"name\":\"Paulie Gee\\'s Slice Shop\",\"image_url\":\"https:\\\\/\\\\/s3-media4.fl.yelpcdn.com\\\\/bphoto\\\\/x01yyTgGYaW9b_YODsZgCQ\\\\/o.jpg\",\"is_closed\":false,\"url\":\"https:\\\\/\\\\/www.yelp.com\\\\/biz\\\\/paulie-gees-slice-shop-brooklyn?adjust_creative=b5ls8p8n8RMoGhGpe9wjPw&utm_campaign=yelp_api_v3&utm_medium=api_v3_business_search&utm_source=b5ls8p8n8RMoGhGpe9wjPw\",\"review_count\":339,\"categories\":[{\"alias\":\"pizza\",\"title\":\"Pizza\"},{\"alias\":\"italian\",\"title\":\"Italian\"}],\"rating\":4.0,\"coordinates\":{\"latitude\":40.72836,\"longitude\":-73.9572},\"transactions\":[\"delivery\"],\"price\":\"$\",\"location\":{\"address1\":\"110 Franklin St\",\"address2\":\"\",\"address3\":null,\"city\":\"Brooklyn\",\"zip_code\":\"11222\",\"country\":\"US\",\"state\":\"NY\",\"display_address\":[\"110 Franklin St\",\"Brooklyn, NY 11222\"]},\"phone\":\"\",\"display_phone\":\"\",\"distance\":3016.0769272327},{\"id\":\"vVVmHacu2YAxKfpIjhfd1g\",\"alias\":\"norma-new-york-5\",\"name\":\"Norma\",\"image_url\":\"https:\\\\/\\\\/s3-media3.fl.yelpcdn.com\\\\/bphoto\\\\/qJKt5l2xSBUKOFRA6UOqVg\\\\/o.jpg\",\"is_closed\":false,\"url\":\"https:\\\\/\\\\/www.yelp.com\\\\/biz\\\\/norma-new-york-5?adjust_creative=b5ls8p8n8RMoGhGpe9wjPw&utm_campaign=yelp_api_v3&utm_medium=api_v3_business_search&utm_source=b5ls8p8n8RMoGhGpe9wjPw\",\"review_count\":611,\"categories\":[{\"alias\":\"italian\",\"title\":\"Italian\"},{\"alias\":\"pizza\",\"title\":\"Pizza\"}],\"rating\":4.5,\"coordinates\":{\"latitude\":40.743553,\"longitude\":-73.980026},\"transactions\":[\"pickup\",\"delivery\"],\"price\":\"$$\",\"location\":{\"address1\":\"438 3rd Ave\",\"address2\":null,\"address3\":\"\",\"city\":\"New York\",\"zip_code\":\"10016\",\"country\":\"US\",\"state\":\"NY\",\"display_address\":[\"438 3rd Ave\",\"New York, NY 10016\"]},\"phone\":\"+12128890600\",\"display_phone\":\"(212) 889-0600\",\"distance\":4071.5169861394},{\"id\":\"j-vsTCIrppw9w7mOB_KHhg\",\"alias\":\"pizza-loves-sauce-new-york-2\",\"name\":\"Pizza Loves Sauce\",\"image_url\":\"https:\\\\/\\\\/s3-media2.fl.yelpcdn.com\\\\/bphoto\\\\/OfskPMiJTOBodntWPi99iQ\\\\/o.jpg\",\"is_closed\":false,\"url\":\"https:\\\\/\\\\/www.yelp.com\\\\/biz\\\\/pizza-loves-sauce-new-york-2?adjust_creative=b5ls8p8n8RMoGhGpe9wjPw&utm_campaign=yelp_api_v3&utm_medium=api_v3_business_search&utm_source=b5ls8p8n8RMoGhGpe9wjPw\",\"review_count\":13,\"categories\":[{\"alias\":\"pizza\",\"title\":\"Pizza\"}],\"rating\":5.0,\"coordinates\":{\"latitude\":40.7229675,\"longitude\":-73.9896901},\"transactions\":[\"pickup\",\"delivery\"],\"price\":null,\"location\":{\"address1\":\"147 E Houston St\",\"address2\":null,\"address3\":null,\"city\":\"New York\",\"zip_code\":\"10002\",\"country\":\"US\",\"state\":\"NY\",\"display_address\":[\"147 E Houston St\",\"New York, NY 10002\"]},\"phone\":\"\",\"display_phone\":\"\",\"distance\":1986.1591887475},{\"id\":\"ePJlqiIhoVKIJW69IE53rg\",\"alias\":\"botte-brooklyn-brooklyn\",\"name\":\"Botte Brooklyn\",\"image_url\":\"https:\\\\/\\\\/s3-media1.fl.yelpcdn.com\\\\/bphoto\\\\/gytaiwhFr_XYJrxkkZEebQ\\\\/o.jpg\",\"is_closed\":false,\"url\":\"https:\\\\/\\\\/www.yelp.com\\\\/biz\\\\/botte-brooklyn-brooklyn?adjust_creative=b5ls8p8n8RMoGhGpe9wjPw&utm_campaign=yelp_api_v3&utm_medium=api_v3_business_search&utm_source=b5ls8p8n8RMoGhGpe9wjPw\",\"review_count\":65,\"categories\":[{\"alias\":\"italian\",\"title\":\"Italian\"},{\"alias\":\"pizza\",\"title\":\"Pizza\"}],\"rating\":4.5,\"coordinates\":{\"latitude\":40.69446,\"longitude\":-73.98316},\"transactions\":[\"pickup\",\"delivery\"],\"price\":null,\"location\":{\"address1\":\"327 Gold St\",\"address2\":null,\"address3\":\"\",\"city\":\"Brooklyn\",\"zip_code\":\"11201\",\"country\":\"US\",\"state\":\"NY\",\"display_address\":[\"327 Gold St\",\"Brooklyn, NY 11201\"]},\"phone\":\"+17185865090\",\"display_phone\":\"(718) 586-5090\",\"distance\":1428.8639884443},{\"id\":\"-CCfu19Uuy_kD2t4ZwsQfA\",\"alias\":\"village-square-pizza-new-york-3\",\"name\":\"Village Square Pizza\",\"image_url\":\"https:\\\\/\\\\/s3-media1.fl.yelpcdn.com\\\\/bphoto\\\\/3gFPiIHKfxpoinyOQWoMnA\\\\/o.jpg\",\"is_closed\":false,\"url\":\"https:\\\\/\\\\/www.yelp.com\\\\/biz\\\\/village-square-pizza-new-york-3?adjust_creative=b5ls8p8n8RMoGhGpe9wjPw&utm_campaign=yelp_api_v3&utm_medium=api_v3_business_search&utm_source=b5ls8p8n8RMoGhGpe9wjPw\",\"review_count\":278,\"categories\":[{\"alias\":\"pizza\",\"title\":\"Pizza\"}],\"rating\":4.5,\"coordinates\":{\"latitude\":40.72748,\"longitude\":-73.98268},\"transactions\":[\"pickup\",\"delivery\"],\"price\":\"$\",\"location\":{\"address1\":\"147 Ave A\",\"address2\":null,\"address3\":\"\",\"city\":\"New York\",\"zip_code\":\"10009\",\"country\":\"US\",\"state\":\"NY\",\"display_address\":[\"147 Ave A\",\"New York, NY 10009\"]},\"phone\":\"+19176757709\",\"display_phone\":\"(917) 675-7709\",\"distance\":2303.7213187818},{\"id\":\"S4uozcDEieoaXxIJ6TsUoQ\",\"alias\":\"dellaroccos-brick-oven-pizza-brooklyn-2\",\"name\":\"Dellarocco\\'s Brick Oven Pizza\",\"image_url\":\"https:\\\\/\\\\/s3-media2.fl.yelpcdn.com\\\\/bphoto\\\\/9oqFYbMJcXsVPFeNdtudXA\\\\/o.jpg\",\"is_closed\":false,\"url\":\"https:\\\\/\\\\/www.yelp.com\\\\/biz\\\\/dellaroccos-brick-oven-pizza-brooklyn-2?adjust_creative=b5ls8p8n8RMoGhGpe9wjPw&utm_campaign=yelp_api_v3&utm_medium=api_v3_business_search&utm_source=b5ls8p8n8RMoGhGpe9wjPw\",\"review_count\":350,\"categories\":[{\"alias\":\"pizza\",\"title\":\"Pizza\"},{\"alias\":\"italian\",\"title\":\"Italian\"},{\"alias\":\"wine_bars\",\"title\":\"Wine Bars\"}],\"rating\":4.0,\"coordinates\":{\"latitude\":40.6950309,\"longitude\":-73.9961252},\"transactions\":[\"pickup\",\"delivery\"],\"price\":\"$$\",\"location\":{\"address1\":\"214 Hicks St\",\"address2\":null,\"address3\":\"\",\"city\":\"Brooklyn\",\"zip_code\":\"11201\",\"country\":\"US\",\"state\":\"NY\",\"display_address\":[\"214 Hicks St\",\"Brooklyn, NY 11201\"]},\"phone\":\"+17188581010\",\"display_phone\":\"(718) 858-1010\",\"distance\":1950.7502016935},{\"id\":\"E2RpnwMxgDHAWcsNMevhmg\",\"alias\":\"cuts-and-slices-brooklyn-3\",\"name\":\"Cuts & Slices\",\"image_url\":\"https:\\\\/\\\\/s3-media1.fl.yelpcdn.com\\\\/bphoto\\\\/TwZH0m9JQwEJorXsvSLjiQ\\\\/o.jpg\",\"is_closed\":false,\"url\":\"https:\\\\/\\\\/www.yelp.com\\\\/biz\\\\/cuts-and-slices-brooklyn-3?adjust_creative=b5ls8p8n8RMoGhGpe9wjPw&utm_campaign=yelp_api_v3&utm_medium=api_v3_business_search&utm_source=b5ls8p8n8RMoGhGpe9wjPw\",\"review_count\":340,\"categories\":[{\"alias\":\"pizza\",\"title\":\"Pizza\"}],\"rating\":4.0,\"coordinates\":{\"latitude\":40.6854737,\"longitude\":-73.9203186},\"transactions\":[\"delivery\"],\"price\":\"$$\",\"location\":{\"address1\":\"93 Howard Ave\",\"address2\":null,\"address3\":\"\",\"city\":\"Brooklyn\",\"zip_code\":\"11233\",\"country\":\"US\",\"state\":\"NY\",\"display_address\":[\"93 Howard Ave\",\"Brooklyn, NY 11233\"]},\"phone\":\"+17185522652\",\"display_phone\":\"(718) 552-2652\",\"distance\":5514.8182051833},{\"id\":\"pGr5QuQU7Ur5GHLvXbT8bw\",\"alias\":\"paulie-gees-brooklyn\",\"name\":\"Paulie Gee\\'s\",\"image_url\":\"https:\\\\/\\\\/s3-media4.fl.yelpcdn.com\\\\/bphoto\\\\/RCrEpYm1HSV3McDJIwq5Uw\\\\/o.jpg\",\"is_closed\":false,\"url\":\"https:\\\\/\\\\/www.yelp.com\\\\/biz\\\\/paulie-gees-brooklyn?adjust_creative=b5ls8p8n8RMoGhGpe9wjPw&utm_campaign=yelp_api_v3&utm_medium=api_v3_business_search&utm_source=b5ls8p8n8RMoGhGpe9wjPw\",\"review_count\":1350,\"categories\":[{\"alias\":\"pizza\",\"title\":\"Pizza\"}],\"rating\":4.5,\"coordinates\":{\"latitude\":40.729546,\"longitude\":-73.958568},\"transactions\":[\"delivery\"],\"price\":\"$$\",\"location\":{\"address1\":\"60 Greenpoint Ave\",\"address2\":\"\",\"address3\":\"\",\"city\":\"Brooklyn\",\"zip_code\":\"11222\",\"country\":\"US\",\"state\":\"NY\",\"display_address\":[\"60 Greenpoint Ave\",\"Brooklyn, NY 11222\"]},\"phone\":\"+13479873747\",\"display_phone\":\"(347) 987-3747\",\"distance\":3047.8912503861},{\"id\":\"r1PWMTbFXBmEhi0scGPf3w\",\"alias\":\"aces-pizza-brooklyn\",\"name\":\"Ace\\'s Pizza\",\"image_url\":\"https:\\\\/\\\\/s3-media3.fl.yelpcdn.com\\\\/bphoto\\\\/IZ3aOct19Mkzf8siKYl4Bw\\\\/o.jpg\",\"is_closed\":false,\"url\":\"https:\\\\/\\\\/www.yelp.com\\\\/biz\\\\/aces-pizza-brooklyn?adjust_creative=b5ls8p8n8RMoGhGpe9wjPw&utm_campaign=yelp_api_v3&utm_medium=api_v3_business_search&utm_source=b5ls8p8n8RMoGhGpe9wjPw\",\"review_count\":147,\"categories\":[{\"alias\":\"pizza\",\"title\":\"Pizza\"},{\"alias\":\"chicken_wings\",\"title\":\"Chicken Wings\"}],\"rating\":4.5,\"coordinates\":{\"latitude\":40.71505,\"longitude\":-73.958365},\"transactions\":[\"delivery\"],\"price\":\"$$\",\"location\":{\"address1\":\"637 Driggs Ave\",\"address2\":\"\",\"address3\":null,\"city\":\"Brooklyn\",\"zip_code\":\"11211\",\"country\":\"US\",\"state\":\"NY\",\"display_address\":[\"637 Driggs Ave\",\"Brooklyn, NY 11211\"]},\"phone\":\"+13477254366\",\"display_phone\":\"(347) 725-4366\",\"distance\":1971.2795628166},{\"id\":\"ApZ_j43jjSZQe2AMDdO46w\",\"alias\":\"grand-street-pizza-new-york\",\"name\":\"Grand Street Pizza\",\"image_url\":\"https:\\\\/\\\\/s3-media2.fl.yelpcdn.com\\\\/bphoto\\\\/8EDsxDQWBUKW66gFtVYcFg\\\\/o.jpg\",\"is_closed\":false,\"url\":\"https:\\\\/\\\\/www.yelp.com\\\\/biz\\\\/grand-street-pizza-new-york?adjust_creative=b5ls8p8n8RMoGhGpe9wjPw&utm_campaign=yelp_api_v3&utm_medium=api_v3_business_search&utm_source=b5ls8p8n8RMoGhGpe9wjPw\",\"review_count\":38,\"categories\":[{\"alias\":\"pizza\",\"title\":\"Pizza\"}],\"rating\":4.5,\"coordinates\":{\"latitude\":40.7164,\"longitude\":-73.98767},\"transactions\":[\"pickup\",\"delivery\"],\"price\":null,\"location\":{\"address1\":\"384 Grand St\",\"address2\":\"\",\"address3\":null,\"city\":\"New York\",\"zip_code\":\"10002\",\"country\":\"US\",\"state\":\"NY\",\"display_address\":[\"384 Grand St\",\"New York, NY 10002\"]},\"phone\":\"+16469186194\",\"display_phone\":\"(646) 918-6194\",\"distance\":1276.2533564141}]'"
      ]
     },
     "execution_count": 35,
     "metadata": {},
     "output_type": "execute_result"
    }
   ],
   "source": [
    "businesses.to_json(orient='records')"
   ]
  },
  {
   "cell_type": "code",
   "execution_count": null,
   "id": "7426e463",
   "metadata": {},
   "outputs": [],
   "source": []
  }
 ],
 "metadata": {
  "kernelspec": {
   "display_name": "Python (dojo-env)",
   "language": "python",
   "name": "dojo-env"
  },
  "language_info": {
   "codemirror_mode": {
    "name": "ipython",
    "version": 3
   },
   "file_extension": ".py",
   "mimetype": "text/x-python",
   "name": "python",
   "nbconvert_exporter": "python",
   "pygments_lexer": "ipython3",
   "version": "3.9.15"
  },
  "toc": {
   "base_numbering": 1,
   "nav_menu": {},
   "number_sections": false,
   "sideBar": true,
   "skip_h1_title": false,
   "title_cell": "Table of Contents",
   "title_sidebar": "Contents",
   "toc_cell": false,
   "toc_position": {},
   "toc_section_display": true,
   "toc_window_display": false
  }
 },
 "nbformat": 4,
 "nbformat_minor": 5
}
